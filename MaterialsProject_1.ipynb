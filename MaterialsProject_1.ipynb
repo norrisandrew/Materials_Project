{
  "nbformat": 4,
  "nbformat_minor": 0,
  "metadata": {
    "colab": {
      "name": "MaterialsProject-1.ipynb",
      "private_outputs": true,
      "provenance": [],
      "collapsed_sections": [],
      "include_colab_link": true
    },
    "kernelspec": {
      "name": "python3",
      "display_name": "Python 3"
    },
    "language_info": {
      "name": "python"
    },
    "gpuClass": "standard"
  },
  "cells": [
    {
      "cell_type": "markdown",
      "metadata": {
        "id": "view-in-github",
        "colab_type": "text"
      },
      "source": [
        "<a href=\"https://colab.research.google.com/github/norrisandrew/Materials_Project/blob/main/MaterialsProject_1.ipynb\" target=\"_parent\"><img src=\"https://colab.research.google.com/assets/colab-badge.svg\" alt=\"Open In Colab\"/></a>"
      ]
    },
    {
      "cell_type": "code",
      "source": [
        "import numpy as np, matplotlib.pyplot as plt, scipy as sp  \n",
        "import xlrd, csv      # for read to .xls, read/write to csv\n",
        "from sklearn.model_selection import train_test_split    # machine learning library\n",
        "from sklearn import datasets\n",
        "import sklearn.linear_model\n",
        "import sklearn.neighbors"
      ],
      "metadata": {
        "id": "SymFLRzBxStC"
      },
      "execution_count": null,
      "outputs": []
    },
    {
      "cell_type": "code",
      "execution_count": null,
      "metadata": {
        "id": "SVtGDQmvromE"
      },
      "outputs": [],
      "source": [
        "!pip install pymatgen==2022.0.17 # <-------------- EXTREMELY IMPORTANT"
      ]
    },
    {
      "cell_type": "code",
      "source": [
        "from pymatgen.ext.matproj import MPRester\n",
        "from pymatgen.core import Composition\n",
        "import re\n",
        "import pprint\n",
        "from pymatgen.symmetry.analyzer import SpacegroupAnalyzer"
      ],
      "metadata": {
        "id": "ip4G4pVixa9I"
      },
      "execution_count": null,
      "outputs": []
    },
    {
      "cell_type": "code",
      "source": [
        "# Make sure that you have the Materials API key. Put the key in the call to\n",
        "# MPRester if needed, e.g, MPRester(\"MY_API_KEY\")\n",
        "mpr = MPRester(\"iR6z9LivAfSmJ0Zdd\")"
      ],
      "metadata": {
        "id": "_UBw4nsu7KSo"
      },
      "execution_count": null,
      "outputs": []
    },
    {
      "cell_type": "code",
      "source": [
        "elastic_data = mpr.query({\"elasticity\": {\"$exists\": True}},              # all the elastic data with materials ids, see http://matgenb.materialsvirtuallab.org/2017/03/02/Getting-data-from-Materials-Project.html\n",
        "                         properties=[\"task_id\", \"pretty_formula\", \"elasticity\", \"elastic_tensor\",\"structure\"])"
      ],
      "metadata": {
        "id": "EFV0MLnH7xhF"
      },
      "execution_count": null,
      "outputs": []
    },
    {
      "cell_type": "code",
      "source": [
        "print(len(elastic_data))\n",
        "pprint.pprint(elastic_data[1])\n",
        "type(elastic_data)"
      ],
      "metadata": {
        "id": "LltjBh8H78Su"
      },
      "execution_count": null,
      "outputs": []
    },
    {
      "cell_type": "code",
      "source": [
        "pprint.pprint(elastic_data[0][\"pretty_formula\"])\n",
        "pprint.pprint(elastic_data[0][\"elasticity\"][\"elastic_tensor\"])\n",
        "\n",
        "SpacegroupAnalyzer(elastic_data[2][\"structure\"]).get_crystal_system()   # \n",
        "#struct = (elastic_data[0][\"structure\"])\n",
        "#finder = SpacegroupAnalyzer(elastic_data[0][\"structure\"])\n",
        "#finder.get_crystal_system() \n",
        "#finder.get_lattice_type() \n",
        "#finder.get_space_group_number() "
      ],
      "metadata": {
        "id": "J1YQ-gkRIfXI"
      },
      "execution_count": null,
      "outputs": []
    },
    {
      "cell_type": "markdown",
      "source": [
        "# Now generate the 13k sets of elastic moduli along with the symmetry type.   This takes a few minutes"
      ],
      "metadata": {
        "id": "YU9P7oZcjSG9"
      }
    },
    {
      "cell_type": "code",
      "source": [
        "r_array = []\n",
        "sym_array = []\n",
        "sgn_array = []\n",
        "l1_array = []\n",
        "l2_array = []\n",
        "l3_array = []\n",
        "l4_array = []\n",
        "l5_array = []\n",
        "l6_array = []\n",
        "length_elastic_data = len(elastic_data)\n",
        "\n",
        "for i in range(length_elastic_data):\n",
        "        r_array.append(elastic_data[i][\"pretty_formula\"])     # the chemical formula\n",
        "\n",
        "        findsym = SpacegroupAnalyzer(elastic_data[i][\"structure\"])       # THIS SLOWS IT DOWN, so it takes about 2.5 minutes\n",
        "        sym_array.append( findsym.get_crystal_system() )       # ['triclinic', 'monoclinic', 'orthorhombic', 'tetragonal', 'trigonal', 'hexagonal', 'cubic']\n",
        "        sgn_array.append( findsym.get_space_group_number() )   # the space group number \n",
        "\n",
        "        l1_array.append(elastic_data[i][\"elasticity\"][\"elastic_tensor\"][0])\n",
        "        l2_array.append(elastic_data[i][\"elasticity\"][\"elastic_tensor\"][1])\n",
        "        l3_array.append(elastic_data[i][\"elasticity\"][\"elastic_tensor\"][2])\n",
        "        l4_array.append(elastic_data[i][\"elasticity\"][\"elastic_tensor\"][3])\n",
        "        l5_array.append(elastic_data[i][\"elasticity\"][\"elastic_tensor\"][4])\n",
        "        l6_array.append(elastic_data[i][\"elasticity\"][\"elastic_tensor\"][5])\n",
        "\n",
        "Big_Data = {'Formula': r_array, 'Symmetry': sym_array, 'Space group': sgn_array, 'Elastic moduli row 1': l1_array, 'Row 2': l2_array, 'Row 3': l3_array, 'Row 4': l4_array, 'Row 5': l5_array, 'Row 6': l6_array}\n",
        "\n",
        "r_array = np.array(r_array)        # now convert the lists to arrays for easier manipulation\n",
        "sym_array = np.array(sym_array)\n",
        "sgn_array = np.array(sgn_array)\n",
        "l1_array = np.array(l1_array)\n",
        "l2_array = np.array(l2_array)\n",
        "l3_array = np.array(l3_array)\n",
        "l4_array = np.array(l4_array)\n",
        "l5_array = np.array(l5_array)\n",
        "l6_array = np.array(l6_array)"
      ],
      "metadata": {
        "id": "MKta0RfIks0j"
      },
      "execution_count": null,
      "outputs": []
    },
    {
      "cell_type": "code",
      "source": [
        "Big_Data = {'Formula': r_array, 'Symmetry': sym_array, 'Space group': sgn_array, 'Elastic moduli row 1': l1_array, 'Row 2': l2_array, 'Row 3': l3_array, 'Row 4': l4_array, 'Row 5': l5_array, 'Row 6': l6_array}"
      ],
      "metadata": {
        "id": "D4AYAcT2h1jw"
      },
      "execution_count": null,
      "outputs": []
    },
    {
      "cell_type": "code",
      "source": [
        "import pandas as pd         #  Let's see what the data looks like\n",
        "\n",
        "DATA = pd.DataFrame(Big_Data)\n",
        "top = DATA.head(9)\n",
        "top"
      ],
      "metadata": {
        "id": "WMPFROgpxVgQ"
      },
      "execution_count": null,
      "outputs": []
    },
    {
      "cell_type": "code",
      "source": [
        "def find_indices(arr_to_check, item_to_find):              #  adapted from https://datagy.io/python-list-find-all-index/\n",
        "    indices = np.where(arr_to_check == item_to_find)[0]\n",
        "    return list(indices)\n",
        "\n",
        "# Get the symmetry indices for  ['triclinic', 'monoclinic', 'orthorhombic', 'tetragonal', 'trigonal', 'hexagonal', 'cubic']\n",
        "ind_cub  = find_indices(sym_array, \"cubic\")\n",
        "ind_hex  = find_indices(sym_array, \"hexagonal\")\n",
        "ind_trig = find_indices(sym_array, \"trigonal\")\n",
        "ind_tetr = find_indices(sym_array, \"tetragonal\")\n",
        "ind_orth = find_indices(sym_array, \"orthorhombic\")\n",
        "ind_mono = find_indices(sym_array, \"monoclinic\")\n",
        "ind_tric = find_indices(sym_array, \"triclinic\")\n",
        "\n",
        "tric_n  = len(ind_tric)                  # for list rather than array was sym_array.count(\"triclinic\")\n",
        "mono_n  = len(ind_mono) \n",
        "orth_n  = len(ind_orth) \n",
        "tetr_n  = len(ind_tetr)  \n",
        "trig_n  = len(ind_trig)  \n",
        "hex_n   = len(ind_hex)  \n",
        "cub_n   = len(ind_cub)  \n",
        "all_n   = tric_n + mono_n + orth_n + tetr_n + trig_n + hex_n + cub_n\n",
        "Sym_numbers = {'triclinic': tric_n, 'monoclinic': mono_n, 'orthorhombic': orth_n, \n",
        "               'tetragonal': tetr_n, 'trigonal': trig_n, 'hexagonal': hex_n, 'cubic': cub_n, 'all': all_n}\n",
        "Sym_numbers"
      ],
      "metadata": {
        "id": "-gXjlOVDmdnl"
      },
      "execution_count": null,
      "outputs": []
    },
    {
      "cell_type": "markdown",
      "source": [
        "# Now we can get the elastic parameters for each symmetry group\n"
      ],
      "metadata": {
        "id": "A3VTYnjn1ndC"
      }
    },
    {
      "cell_type": "code",
      "source": [
        "sgn_array_cub  = sgn_array[np.ix_(ind_cub)]      #   Space group numbers for the cubic materials, etc\n",
        "sgn_array_hex  = sgn_array[np.ix_(ind_hex)]\n",
        "sgn_array_trig = sgn_array[np.ix_(ind_trig)]\n",
        "sgn_array_tetr = sgn_array[np.ix_(ind_tetr)]\n",
        "sgn_array_orth = sgn_array[np.ix_(ind_orth)]\n",
        "sgn_array_mono = sgn_array[np.ix_(ind_mono)]\n",
        "sgn_array_tric = sgn_array[np.ix_(ind_tric)]\n",
        "print( sgn_array_cub[1:12] )                     #   First 12 Space group numbers for the cubic materials, etc\n",
        "print( sgn_array_hex[1:12] )\n",
        "print( sgn_array_trig[1:12] )\n",
        "print( sgn_array_tetr[1:12] )\n",
        "print( sgn_array_orth[1:12] )\n",
        "print( sgn_array_mono[1:12] )\n",
        "print( sgn_array_tric[1:12] )\n",
        "print(l1_array[2:6] )\n",
        "print(ind_tric[1:7])\n"
      ],
      "metadata": {
        "id": "FCn1b4g31y0z"
      },
      "execution_count": null,
      "outputs": []
    },
    {
      "cell_type": "markdown",
      "source": [
        "# Now compute the cubic elastic moduli for each of the 13k or so materials in the elastic data."
      ],
      "metadata": {
        "id": "0exbKS6HbgSM"
      }
    },
    {
      "cell_type": "code",
      "source": [
        "#  for a 6x6 C find distances and moduli\n",
        "def dist_cub_and_iso(C):\n",
        "  CdotH  = C[0,0]+C[1,1]+C[2,2]\n",
        "  Cdot3J = CdotH + 2*(C[0,1]+C[1,2]+C[0,2])\n",
        "  CdotI  = 2*np.trace(C) - CdotH \n",
        "  kap = Cdot3J/9                 # kappa or bulk modulus\n",
        "  mu1 = (CdotI - CdotH)/6        # mu1 which is the same as mu in DOI: 10.1121/1.2173525\n",
        "  mu2 = CdotH/4 - Cdot3J/12      # mu2 which is the same as eta \n",
        "  mu = (3*mu1+2*mu2)/5           #  isotropic mu\n",
        "\n",
        "  C11 = kap + mu2*4/3   # cubic C11\n",
        "  C12 = kap - mu2*2/3   # cubic C12\n",
        "  C66 = mu1             # cubic C66\n",
        "  C_cub = np.array( [ [C11,C12,C12,0,0,0], [C12,C11,C12,0,0,0], [C12,C12,C11,0,0,0], [0,0,0,C66,0,0], [0,0,0,0,C66,0], [0,0,0,0,0,C66] ])   # the cubic approximation of C\n",
        "  C11 = kap + mu*4/3    # isotropic C11\n",
        "  C12 = kap - mu*2/3    # isotropic C12\n",
        "  C66 = mu              # isotropic C66\n",
        "  C_iso = np.array( [ [C11,C12,C12,0,0,0], [C12,C11,C12,0,0,0], [C12,C12,C11,0,0,0], [0,0,0,C66,0,0], [0,0,0,0,C66,0], [0,0,0,0,0,C66] ])   # the isotopic approximation of C\n",
        "\n",
        "  C_mag    = np.linalg.norm(C,2)     #   norm(C,2) is the same as norm(C)\n",
        "  dist_cub = np.linalg.norm(C - C_cub)/C_mag    #  the relative distance of C_cub from C, in an L2 sense\n",
        "  dist_iso = np.linalg.norm(C - C_iso)/C_mag    #  the relative distance of C_iso from C, in an L2 sense\n",
        "\n",
        "  return [dist_cub, dist_iso, kap, mu1, mu2, mu]"
      ],
      "metadata": {
        "id": "-PcfZYpJK-T3"
      },
      "execution_count": null,
      "outputs": []
    },
    {
      "cell_type": "code",
      "source": [
        "form_list = [] # formula\n",
        "sym_list  = [] # symmetry, make sure to run the block two above for this to work\n",
        "k_list  = []   # kappa\n",
        "m1_list = []   # shear modulus 1\n",
        "m2_list = []   # shear modulus 2\n",
        "m_list  = []   # shear modulus of iso\n",
        "dc_list = []   # relative distance from cubic approximation\n",
        "di_list = []   # relative distance from isotropic approximation\n",
        "\n",
        "#for k in range(length_elastic_data):       # use these 2 lines for the entire 13k database\n",
        "#  i = k\n",
        "\n",
        "indx = ind_tric           #   consider the symmetry indicated with these 3 lines \n",
        "for k in range(len(indx)):\n",
        "  i = np.array( indx[k] )\n",
        "\n",
        "  C = np.array( elastic_data[i][\"elasticity\"][\"elastic_tensor\"] )      # converts list to array\n",
        "  X = dist_cub_and_iso(C)                         # calls the function above\n",
        "  \n",
        "  dist_cub = X[0]\n",
        "  if dist_cub < 1:\n",
        "    form_list.append(elastic_data[i][\"pretty_formula\"])\n",
        "    sym_list.append(sym_array[i])\n",
        "    dc_list.append( X[0] )   #   dist to cub\n",
        "    di_list.append( X[1] )   #   dist to iso\n",
        "    k_list.append( X[2] )    #   kap for cub and iso\n",
        "    m1_list.append( X[3] )   #   mu1 of cub\n",
        "    m2_list.append( X[4] )   #   mu2 of cub\n",
        "    m_list.append( X[5] )    #   mu of iso\n",
        "                      \n",
        "Cubic_data = {'Formula': form_list, 'Symmetry': sym_list, 'kappa': k_list, 'mu1': m1_list, 'mu2': m2_list,  'mu': m_list, 'rel dist to cubic': dc_list, 'rel dist to isotropic': di_list}\n",
        "\n",
        "dc_list_sort = np.sort(dc_list)            # sort the distances\n",
        "di_list_sort = np.sort(di_list)            # sort the distances\n",
        "sym_list_sort = np.sort(sym_list)          # sort the syms\n",
        "\n",
        "plt.plot( di_list_sort )\n",
        "plt.ylabel('Relative distance to cubic')\n",
        "plt.grid(True)\n",
        "plt.show()\n",
        "\n",
        "print(C)\n",
        "\n",
        "print( sym_list.count(\"hexagonal\") )\n"
      ],
      "metadata": {
        "id": "tEuuGObP_qeq"
      },
      "execution_count": null,
      "outputs": []
    },
    {
      "cell_type": "markdown",
      "source": [
        "The plot shows the \"distance to cubic\" for all 13000 materials.  A zero distance means it is actucally a cubic crystal.  A non-zero value means the crystal structure is more complicated.  A small distance means it is \"almost\" cubic, i.e. its properties canbe approximated by a cubic materia with the three elastic moduli: kap, mu1 and mu2"
      ],
      "metadata": {
        "id": "ALxDtGKA2rFb"
      }
    },
    {
      "cell_type": "code",
      "source": [
        "print( dc_list_sort[0:12] )\n",
        " "
      ],
      "metadata": {
        "id": "j-fnk78YVgvE"
      },
      "execution_count": null,
      "outputs": []
    }
  ]
}